{
  "cells": [
    {
      "cell_type": "markdown",
      "metadata": {
        "id": "view-in-github",
        "colab_type": "text"
      },
      "source": [
        "<a href=\"https://colab.research.google.com/github/emmanuelq2/2015/blob/master/Natural_Language_Processing_Interview_Questions_%26_Answers.ipynb\" target=\"_parent\"><img src=\"https://colab.research.google.com/assets/colab-badge.svg\" alt=\"Open In Colab\"/></a>"
      ]
    },
    {
      "cell_type": "code",
      "execution_count": 2,
      "metadata": {
        "id": "O9Yq8QGL9NGs"
      },
      "outputs": [],
      "source": [
        "# https://www.youtube.com/watch?v=zchbiQSAL3o"
      ]
    },
    {
      "cell_type": "code",
      "execution_count": 3,
      "metadata": {
        "id": "7EeFsJWH8rfr"
      },
      "outputs": [],
      "source": [
        "import nltk\n"
      ]
    },
    {
      "cell_type": "markdown",
      "metadata": {
        "id": "QPnlsL76-6lv"
      },
      "source": [
        "## STEMMING"
      ]
    },
    {
      "cell_type": "code",
      "execution_count": 4,
      "metadata": {
        "id": "HrU7GKqu9cTy"
      },
      "outputs": [],
      "source": [
        "from nltk.stem import PorterStemmer\n",
        "from nltk.tokenize import word_tokenize\n",
        "pst = PorterStemmer()\n",
        "# choose some words to be stemmed"
      ]
    },
    {
      "cell_type": "code",
      "execution_count": 5,
      "metadata": {
        "id": "K0osJoQ796MO"
      },
      "outputs": [],
      "source": [
        "words = [\"liking\", \"like\", \"likely\", \"likes\"]"
      ]
    },
    {
      "cell_type": "code",
      "execution_count": 6,
      "metadata": {
        "colab": {
          "base_uri": "https://localhost:8080/"
        },
        "id": "fBa0I4Hg-DWM",
        "outputId": "9b02e51f-18c2-4b13-d199-d6312acf1515"
      },
      "outputs": [
        {
          "output_type": "stream",
          "name": "stdout",
          "text": [
            "liking   like\n",
            "like   like\n",
            "likely   like\n",
            "likes   like\n"
          ]
        }
      ],
      "source": [
        "for i in words:\n",
        "  print(i,\" \", pst.stem(i))"
      ]
    },
    {
      "cell_type": "code",
      "execution_count": 7,
      "metadata": {
        "colab": {
          "base_uri": "https://localhost:8080/"
        },
        "id": "sB3oA0MxBRl0",
        "outputId": "6cc8ed2d-dba5-4ebc-821d-02f4a3cca437"
      },
      "outputs": [
        {
          "output_type": "stream",
          "name": "stdout",
          "text": [
            "[nltk_data] Downloading package wordnet to /root/nltk_data...\n",
            "[nltk_data]   Unzipping corpora/wordnet.zip.\n"
          ]
        },
        {
          "output_type": "execute_result",
          "data": {
            "text/plain": [
              "True"
            ]
          },
          "metadata": {},
          "execution_count": 7
        }
      ],
      "source": [
        " nltk.download('wordnet')"
      ]
    },
    {
      "cell_type": "markdown",
      "source": [
        "# LEMMATIZATION"
      ],
      "metadata": {
        "id": "l65nO19NWzji"
      }
    },
    {
      "cell_type": "code",
      "execution_count": 8,
      "metadata": {
        "id": "Isv1idL2_GFB"
      },
      "outputs": [],
      "source": [
        "from nltk.stem import wordnet\n",
        "from nltk.stem import WordNetLemmatizer\n",
        "lemmatizer = WordNetLemmatizer()\n"
      ]
    },
    {
      "cell_type": "code",
      "execution_count": 9,
      "metadata": {
        "id": "idbxIx8vAIzw"
      },
      "outputs": [],
      "source": [
        "list = [\"cats\", \"dogs\", \"sheeps\"]"
      ]
    },
    {
      "cell_type": "code",
      "execution_count": 10,
      "metadata": {
        "colab": {
          "base_uri": "https://localhost:8080/"
        },
        "id": "pSKO_P-pAOye",
        "outputId": "56b24bdd-efa3-426c-f4df-8d987dcebb14"
      },
      "outputs": [
        {
          "output_type": "stream",
          "name": "stdout",
          "text": [
            "cats   cat\n",
            "dogs   dog\n",
            "sheeps   sheep\n"
          ]
        }
      ],
      "source": [
        "for i in list:\n",
        "  print(i,\" \", lemmatizer.lemmatize(i))"
      ]
    },
    {
      "cell_type": "code",
      "execution_count": 11,
      "metadata": {
        "colab": {
          "base_uri": "https://localhost:8080/"
        },
        "id": "B0H1QVxeLjTv",
        "outputId": "b77912c0-a8f2-4c1f-fd0c-9a8ed69f1570"
      },
      "outputs": [
        {
          "output_type": "stream",
          "name": "stdout",
          "text": [
            "\u001b[38;5;2m✔ Download and installation successful\u001b[0m\n",
            "You can now load the model via spacy.load('en_core_web_sm')\n"
          ]
        }
      ],
      "source": [
        "import spacy\n",
        "spacy.cli.download(\"en_core_web_sm\")"
      ]
    },
    {
      "cell_type": "code",
      "execution_count": 12,
      "metadata": {
        "colab": {
          "base_uri": "https://localhost:8080/"
        },
        "id": "kRfZ3EQBL4vo",
        "outputId": "1dd82269-451a-4288-954e-e1d534dfd77f"
      },
      "outputs": [
        {
          "name": "stdout",
          "output_type": "stream",
          "text": [
            "Enter two commas, separate word\n",
            "apple,orange\n"
          ]
        }
      ],
      "source": [
        "\n",
        "nlp = spacy.load(\"en_core_web_sm\")\n",
        "print(\"Enter two commas, separate word\")\n",
        "words = input()\n",
        "tokens = nlp(words)"
      ]
    },
    {
      "cell_type": "code",
      "source": [
        "# text: the word string, has_vector if it contains a vector representation in the model\n",
        "# a vector norm: the algebraic vector of the vector\n",
        "# if the word is OOV\n",
        "\n",
        "for i in tokens:\n",
        "  print(i.text,i.has_vector,i.vector_norm,i.is_oov)\n",
        "token1, token2 = tokens[0], tokens[1]\n",
        "# print(\"Similarity:\" token1.similarity(token2))\n",
        "print(token1)\n",
        "print(token2)"
      ],
      "metadata": {
        "colab": {
          "base_uri": "https://localhost:8080/"
        },
        "id": "PgZLrqcbhikV",
        "outputId": "17327a3b-b558-4a53-a956-c3041520a702"
      },
      "execution_count": 14,
      "outputs": [
        {
          "output_type": "stream",
          "name": "stdout",
          "text": [
            "apple True 19.477463 True\n",
            ", True 22.320824 True\n",
            "orange True 19.682112 True\n",
            "apple\n",
            ",\n"
          ]
        }
      ]
    },
    {
      "cell_type": "code",
      "source": [
        "import nltk\n",
        "from nltk.tokenize import word_tokenize, sent_tokenize\n",
        "nltk.download('stopwords')\n",
        "nltk.download('punkt')\n",
        "nltk.download('averaged_perceptron_tagger')\n",
        "tokenizer = sent_tokenize(\"Welcome to the Greatlearning YouTube channel\")"
      ],
      "metadata": {
        "colab": {
          "base_uri": "https://localhost:8080/"
        },
        "id": "jbquepPSIc4e",
        "outputId": "31653850-d202-43be-eda5-5e091fa50c71"
      },
      "execution_count": 6,
      "outputs": [
        {
          "output_type": "stream",
          "name": "stdout",
          "text": [
            "[nltk_data] Downloading package stopwords to /root/nltk_data...\n",
            "[nltk_data]   Package stopwords is already up-to-date!\n",
            "[nltk_data] Downloading package punkt to /root/nltk_data...\n",
            "[nltk_data]   Package punkt is already up-to-date!\n",
            "[nltk_data] Downloading package averaged_perceptron_tagger to\n",
            "[nltk_data]     /root/nltk_data...\n",
            "[nltk_data]   Unzipping taggers/averaged_perceptron_tagger.zip.\n"
          ]
        }
      ]
    },
    {
      "cell_type": "code",
      "source": [
        "from nltk.corpus import stopwords\n",
        "from nltk import pos_tag\n",
        "stop_words = set(stopwords.words('english'))\n",
        "for i in tokenizer:\n",
        "  wordsList = nltk.word_tokenize(i)\n",
        "print(wordsList)\n",
        "wordsList = [w for w in wordsList if not w in stop_words]\n",
        "print(wordsList)\n",
        "# pos_tag not found \n",
        "tagged = nltk.pos_tag(wordsList)\n",
        "print(tagged)\n"
      ],
      "metadata": {
        "colab": {
          "base_uri": "https://localhost:8080/"
        },
        "id": "IrBumcPoJHZ1",
        "outputId": "761c2c92-9773-4a21-a15e-f2964fa7e940"
      },
      "execution_count": 8,
      "outputs": [
        {
          "output_type": "stream",
          "name": "stdout",
          "text": [
            "['Welcome', 'to', 'the', 'Greatlearning', 'YouTube', 'channel']\n",
            "['Welcome', 'Greatlearning', 'YouTube', 'channel']\n",
            "[('Welcome', 'JJ'), ('Greatlearning', 'NNP'), ('YouTube', 'NNP'), ('channel', 'NN')]\n"
          ]
        }
      ]
    },
    {
      "cell_type": "markdown",
      "source": [
        "# IMPLEMENTING NER USING SPACY"
      ],
      "metadata": {
        "id": "Y4WcvZ-eTOrs"
      }
    },
    {
      "cell_type": "code",
      "source": [
        "import spacy #Library\n",
        "nlp = spacy.load('en_core_web_sm')\n",
        "text = \"Google is the most common search engine\"\n",
        "document=nlp(text)\n",
        "for ent in document.ents:\n",
        "  print(ent.text, ent.start_char,ent.end_char,ent.label_)"
      ],
      "metadata": {
        "colab": {
          "base_uri": "https://localhost:8080/"
        },
        "id": "lSsuoE0fSRzo",
        "outputId": "122163e8-3b63-4e40-a296-5ba19e931e42"
      },
      "execution_count": 12,
      "outputs": [
        {
          "output_type": "stream",
          "name": "stdout",
          "text": [
            "Google 0 6 ORG\n"
          ]
        }
      ]
    },
    {
      "cell_type": "markdown",
      "metadata": {
        "id": "v50ZYlNW9K6M"
      },
      "source": [
        ""
      ]
    }
  ],
  "metadata": {
    "colab": {
      "name": "Natural Language Processing Interview Questions & Answers.ipynb",
      "provenance": [],
      "collapsed_sections": [],
      "authorship_tag": "ABX9TyM50VfV6UsQla1uoEb010JZ",
      "include_colab_link": true
    },
    "kernelspec": {
      "display_name": "Python 3",
      "name": "python3"
    },
    "language_info": {
      "name": "python"
    }
  },
  "nbformat": 4,
  "nbformat_minor": 0
}